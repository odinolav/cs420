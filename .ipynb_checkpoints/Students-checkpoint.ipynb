{
 "cells": [
  {
   "cell_type": "markdown",
   "metadata": {},
   "source": [
    "# Predicting student sex based on school-related data\n",
    "# Also, predicting student sex based on alcohol consumption habits \n",
    "\n",
    "## Dataset Subjects: Portugese Secondary Schoolers  studying Portugese and Math"
   ]
  },
  {
   "cell_type": "code",
   "execution_count": 1,
   "metadata": {
    "scrolled": true
   },
   "outputs": [],
   "source": [
    "import pandas as pd\n",
    "import numpy as np\n",
    "from matplotlib import pyplot as plt\n",
    "from sklearn.preprocessing import LabelEncoder\n",
    "import math\n",
    "from sklearn.model_selection import train_test_split\n",
    "from sklearn.preprocessing import LabelEncoder\n",
    "from sklearn.linear_model import LinearRegression\n",
    "from sklearn.metrics import accuracy_score, confusion_matrix, classification_report\n",
    "from sklearn import metrics, svm\n",
    "from sklearn.preprocessing import StandardScaler\n",
    "import seaborn as sns\n",
    "\n",
    "students_math = pd.read_csv('student-mat.csv')\n",
    "students_portugese = pd.read_csv('student-por.csv')\n"
   ]
  },
  {
   "cell_type": "code",
   "execution_count": 2,
   "metadata": {},
   "outputs": [
    {
     "name": "stdout",
     "output_type": "stream",
     "text": [
      "395 649\n",
      "1044\n"
     ]
    }
   ],
   "source": [
    "students_math.drop(['school', 'Pstatus', 'Medu', 'Fedu', 'Mjob',\n",
    "       'Fjob'], axis=1, inplace=True)\n",
    "students_portugese.drop(['school', 'Pstatus', 'Medu', 'Fedu', 'Mjob',\n",
    "       'Fjob'], axis=1, inplace=True)\n",
    "print(len(students_math), len(students_portugese))\n",
    "print(len(students_math) + len(students_portugese))"
   ]
  },
  {
   "cell_type": "code",
   "execution_count": 3,
   "metadata": {},
   "outputs": [
    {
     "data": {
      "text/html": [
       "<div>\n",
       "<style scoped>\n",
       "    .dataframe tbody tr th:only-of-type {\n",
       "        vertical-align: middle;\n",
       "    }\n",
       "\n",
       "    .dataframe tbody tr th {\n",
       "        vertical-align: top;\n",
       "    }\n",
       "\n",
       "    .dataframe thead th {\n",
       "        text-align: right;\n",
       "    }\n",
       "</style>\n",
       "<table border=\"1\" class=\"dataframe\">\n",
       "  <thead>\n",
       "    <tr style=\"text-align: right;\">\n",
       "      <th></th>\n",
       "      <th>sex</th>\n",
       "      <th>age</th>\n",
       "      <th>address</th>\n",
       "      <th>famsize</th>\n",
       "      <th>reason</th>\n",
       "      <th>guardian</th>\n",
       "      <th>traveltime</th>\n",
       "      <th>studytime</th>\n",
       "      <th>failures</th>\n",
       "      <th>schoolsup</th>\n",
       "      <th>...</th>\n",
       "      <th>famrel</th>\n",
       "      <th>freetime</th>\n",
       "      <th>goout</th>\n",
       "      <th>Dalc</th>\n",
       "      <th>Walc</th>\n",
       "      <th>health</th>\n",
       "      <th>absences</th>\n",
       "      <th>G1</th>\n",
       "      <th>G2</th>\n",
       "      <th>G3</th>\n",
       "    </tr>\n",
       "  </thead>\n",
       "  <tbody>\n",
       "    <tr>\n",
       "      <th>0</th>\n",
       "      <td>F</td>\n",
       "      <td>18</td>\n",
       "      <td>U</td>\n",
       "      <td>GT3</td>\n",
       "      <td>course</td>\n",
       "      <td>mother</td>\n",
       "      <td>2</td>\n",
       "      <td>2</td>\n",
       "      <td>0</td>\n",
       "      <td>yes</td>\n",
       "      <td>...</td>\n",
       "      <td>4</td>\n",
       "      <td>3</td>\n",
       "      <td>4</td>\n",
       "      <td>1</td>\n",
       "      <td>1</td>\n",
       "      <td>3</td>\n",
       "      <td>6</td>\n",
       "      <td>5</td>\n",
       "      <td>6</td>\n",
       "      <td>6</td>\n",
       "    </tr>\n",
       "    <tr>\n",
       "      <th>1</th>\n",
       "      <td>F</td>\n",
       "      <td>17</td>\n",
       "      <td>U</td>\n",
       "      <td>GT3</td>\n",
       "      <td>course</td>\n",
       "      <td>father</td>\n",
       "      <td>1</td>\n",
       "      <td>2</td>\n",
       "      <td>0</td>\n",
       "      <td>no</td>\n",
       "      <td>...</td>\n",
       "      <td>5</td>\n",
       "      <td>3</td>\n",
       "      <td>3</td>\n",
       "      <td>1</td>\n",
       "      <td>1</td>\n",
       "      <td>3</td>\n",
       "      <td>4</td>\n",
       "      <td>5</td>\n",
       "      <td>5</td>\n",
       "      <td>6</td>\n",
       "    </tr>\n",
       "    <tr>\n",
       "      <th>2</th>\n",
       "      <td>F</td>\n",
       "      <td>15</td>\n",
       "      <td>U</td>\n",
       "      <td>LE3</td>\n",
       "      <td>other</td>\n",
       "      <td>mother</td>\n",
       "      <td>1</td>\n",
       "      <td>2</td>\n",
       "      <td>3</td>\n",
       "      <td>yes</td>\n",
       "      <td>...</td>\n",
       "      <td>4</td>\n",
       "      <td>3</td>\n",
       "      <td>2</td>\n",
       "      <td>2</td>\n",
       "      <td>3</td>\n",
       "      <td>3</td>\n",
       "      <td>10</td>\n",
       "      <td>7</td>\n",
       "      <td>8</td>\n",
       "      <td>10</td>\n",
       "    </tr>\n",
       "    <tr>\n",
       "      <th>3</th>\n",
       "      <td>F</td>\n",
       "      <td>15</td>\n",
       "      <td>U</td>\n",
       "      <td>GT3</td>\n",
       "      <td>home</td>\n",
       "      <td>mother</td>\n",
       "      <td>1</td>\n",
       "      <td>3</td>\n",
       "      <td>0</td>\n",
       "      <td>no</td>\n",
       "      <td>...</td>\n",
       "      <td>3</td>\n",
       "      <td>2</td>\n",
       "      <td>2</td>\n",
       "      <td>1</td>\n",
       "      <td>1</td>\n",
       "      <td>5</td>\n",
       "      <td>2</td>\n",
       "      <td>15</td>\n",
       "      <td>14</td>\n",
       "      <td>15</td>\n",
       "    </tr>\n",
       "    <tr>\n",
       "      <th>4</th>\n",
       "      <td>F</td>\n",
       "      <td>16</td>\n",
       "      <td>U</td>\n",
       "      <td>GT3</td>\n",
       "      <td>home</td>\n",
       "      <td>father</td>\n",
       "      <td>1</td>\n",
       "      <td>2</td>\n",
       "      <td>0</td>\n",
       "      <td>no</td>\n",
       "      <td>...</td>\n",
       "      <td>4</td>\n",
       "      <td>3</td>\n",
       "      <td>2</td>\n",
       "      <td>1</td>\n",
       "      <td>2</td>\n",
       "      <td>5</td>\n",
       "      <td>4</td>\n",
       "      <td>6</td>\n",
       "      <td>10</td>\n",
       "      <td>10</td>\n",
       "    </tr>\n",
       "  </tbody>\n",
       "</table>\n",
       "<p>5 rows × 27 columns</p>\n",
       "</div>"
      ],
      "text/plain": [
       "  sex  age address famsize  reason guardian  traveltime  studytime  failures  \\\n",
       "0   F   18       U     GT3  course   mother           2          2         0   \n",
       "1   F   17       U     GT3  course   father           1          2         0   \n",
       "2   F   15       U     LE3   other   mother           1          2         3   \n",
       "3   F   15       U     GT3    home   mother           1          3         0   \n",
       "4   F   16       U     GT3    home   father           1          2         0   \n",
       "\n",
       "  schoolsup ... famrel freetime goout Dalc Walc health absences  G1  G2  G3  \n",
       "0       yes ...      4        3     4    1    1      3        6   5   6   6  \n",
       "1        no ...      5        3     3    1    1      3        4   5   5   6  \n",
       "2       yes ...      4        3     2    2    3      3       10   7   8  10  \n",
       "3        no ...      3        2     2    1    1      5        2  15  14  15  \n",
       "4        no ...      4        3     2    1    2      5        4   6  10  10  \n",
       "\n",
       "[5 rows x 27 columns]"
      ]
     },
     "execution_count": 3,
     "metadata": {},
     "output_type": "execute_result"
    }
   ],
   "source": [
    "students_math.head()"
   ]
  },
  {
   "cell_type": "code",
   "execution_count": 4,
   "metadata": {},
   "outputs": [
    {
     "data": {
      "text/html": [
       "<div>\n",
       "<style scoped>\n",
       "    .dataframe tbody tr th:only-of-type {\n",
       "        vertical-align: middle;\n",
       "    }\n",
       "\n",
       "    .dataframe tbody tr th {\n",
       "        vertical-align: top;\n",
       "    }\n",
       "\n",
       "    .dataframe thead th {\n",
       "        text-align: right;\n",
       "    }\n",
       "</style>\n",
       "<table border=\"1\" class=\"dataframe\">\n",
       "  <thead>\n",
       "    <tr style=\"text-align: right;\">\n",
       "      <th></th>\n",
       "      <th>sex</th>\n",
       "      <th>age</th>\n",
       "      <th>address</th>\n",
       "      <th>famsize</th>\n",
       "      <th>reason</th>\n",
       "      <th>guardian</th>\n",
       "      <th>traveltime</th>\n",
       "      <th>studytime</th>\n",
       "      <th>failures</th>\n",
       "      <th>schoolsup</th>\n",
       "      <th>...</th>\n",
       "      <th>famrel</th>\n",
       "      <th>freetime</th>\n",
       "      <th>goout</th>\n",
       "      <th>Dalc</th>\n",
       "      <th>Walc</th>\n",
       "      <th>health</th>\n",
       "      <th>absences</th>\n",
       "      <th>G1</th>\n",
       "      <th>G2</th>\n",
       "      <th>G3</th>\n",
       "    </tr>\n",
       "  </thead>\n",
       "  <tbody>\n",
       "    <tr>\n",
       "      <th>0</th>\n",
       "      <td>F</td>\n",
       "      <td>18</td>\n",
       "      <td>U</td>\n",
       "      <td>GT3</td>\n",
       "      <td>course</td>\n",
       "      <td>mother</td>\n",
       "      <td>2</td>\n",
       "      <td>2</td>\n",
       "      <td>0</td>\n",
       "      <td>yes</td>\n",
       "      <td>...</td>\n",
       "      <td>4</td>\n",
       "      <td>3</td>\n",
       "      <td>4</td>\n",
       "      <td>1</td>\n",
       "      <td>1</td>\n",
       "      <td>3</td>\n",
       "      <td>4</td>\n",
       "      <td>0</td>\n",
       "      <td>11</td>\n",
       "      <td>11</td>\n",
       "    </tr>\n",
       "    <tr>\n",
       "      <th>1</th>\n",
       "      <td>F</td>\n",
       "      <td>17</td>\n",
       "      <td>U</td>\n",
       "      <td>GT3</td>\n",
       "      <td>course</td>\n",
       "      <td>father</td>\n",
       "      <td>1</td>\n",
       "      <td>2</td>\n",
       "      <td>0</td>\n",
       "      <td>no</td>\n",
       "      <td>...</td>\n",
       "      <td>5</td>\n",
       "      <td>3</td>\n",
       "      <td>3</td>\n",
       "      <td>1</td>\n",
       "      <td>1</td>\n",
       "      <td>3</td>\n",
       "      <td>2</td>\n",
       "      <td>9</td>\n",
       "      <td>11</td>\n",
       "      <td>11</td>\n",
       "    </tr>\n",
       "    <tr>\n",
       "      <th>2</th>\n",
       "      <td>F</td>\n",
       "      <td>15</td>\n",
       "      <td>U</td>\n",
       "      <td>LE3</td>\n",
       "      <td>other</td>\n",
       "      <td>mother</td>\n",
       "      <td>1</td>\n",
       "      <td>2</td>\n",
       "      <td>0</td>\n",
       "      <td>yes</td>\n",
       "      <td>...</td>\n",
       "      <td>4</td>\n",
       "      <td>3</td>\n",
       "      <td>2</td>\n",
       "      <td>2</td>\n",
       "      <td>3</td>\n",
       "      <td>3</td>\n",
       "      <td>6</td>\n",
       "      <td>12</td>\n",
       "      <td>13</td>\n",
       "      <td>12</td>\n",
       "    </tr>\n",
       "    <tr>\n",
       "      <th>3</th>\n",
       "      <td>F</td>\n",
       "      <td>15</td>\n",
       "      <td>U</td>\n",
       "      <td>GT3</td>\n",
       "      <td>home</td>\n",
       "      <td>mother</td>\n",
       "      <td>1</td>\n",
       "      <td>3</td>\n",
       "      <td>0</td>\n",
       "      <td>no</td>\n",
       "      <td>...</td>\n",
       "      <td>3</td>\n",
       "      <td>2</td>\n",
       "      <td>2</td>\n",
       "      <td>1</td>\n",
       "      <td>1</td>\n",
       "      <td>5</td>\n",
       "      <td>0</td>\n",
       "      <td>14</td>\n",
       "      <td>14</td>\n",
       "      <td>14</td>\n",
       "    </tr>\n",
       "    <tr>\n",
       "      <th>4</th>\n",
       "      <td>F</td>\n",
       "      <td>16</td>\n",
       "      <td>U</td>\n",
       "      <td>GT3</td>\n",
       "      <td>home</td>\n",
       "      <td>father</td>\n",
       "      <td>1</td>\n",
       "      <td>2</td>\n",
       "      <td>0</td>\n",
       "      <td>no</td>\n",
       "      <td>...</td>\n",
       "      <td>4</td>\n",
       "      <td>3</td>\n",
       "      <td>2</td>\n",
       "      <td>1</td>\n",
       "      <td>2</td>\n",
       "      <td>5</td>\n",
       "      <td>0</td>\n",
       "      <td>11</td>\n",
       "      <td>13</td>\n",
       "      <td>13</td>\n",
       "    </tr>\n",
       "  </tbody>\n",
       "</table>\n",
       "<p>5 rows × 27 columns</p>\n",
       "</div>"
      ],
      "text/plain": [
       "  sex  age address famsize  reason guardian  traveltime  studytime  failures  \\\n",
       "0   F   18       U     GT3  course   mother           2          2         0   \n",
       "1   F   17       U     GT3  course   father           1          2         0   \n",
       "2   F   15       U     LE3   other   mother           1          2         0   \n",
       "3   F   15       U     GT3    home   mother           1          3         0   \n",
       "4   F   16       U     GT3    home   father           1          2         0   \n",
       "\n",
       "  schoolsup ... famrel freetime goout Dalc Walc health absences  G1  G2  G3  \n",
       "0       yes ...      4        3     4    1    1      3        4   0  11  11  \n",
       "1        no ...      5        3     3    1    1      3        2   9  11  11  \n",
       "2       yes ...      4        3     2    2    3      3        6  12  13  12  \n",
       "3        no ...      3        2     2    1    1      5        0  14  14  14  \n",
       "4        no ...      4        3     2    1    2      5        0  11  13  13  \n",
       "\n",
       "[5 rows x 27 columns]"
      ]
     },
     "execution_count": 4,
     "metadata": {},
     "output_type": "execute_result"
    }
   ],
   "source": [
    "students_portugese.head()"
   ]
  },
  {
   "cell_type": "code",
   "execution_count": 5,
   "metadata": {},
   "outputs": [],
   "source": [
    "labelencoder = LabelEncoder()\n",
    "for col in ['sex', 'address', 'reason', 'guardian', 'schoolsup', 'famsize', 'famsup',\n",
    "            'paid', 'activities', 'nursery', 'higher', 'internet', 'romantic']:\n",
    "    students_math[col] = labelencoder.fit_transform(students_math[col])\n",
    "    students_portugese[col] = labelencoder.fit_transform(students_portugese[col])"
   ]
  },
  {
   "cell_type": "markdown",
   "metadata": {},
   "source": [
    "## Female: 0, Male: 1"
   ]
  },
  {
   "cell_type": "code",
   "execution_count": 6,
   "metadata": {},
   "outputs": [
    {
     "data": {
      "image/png": "[encoded data removed]",
      "text/plain": [
       "<Figure size 432x288 with 30 Axes>"
      ]
     },
     "metadata": {},
     "output_type": "display_data"
    }
   ],
   "source": [
    "students_math.hist();"
   ]
  },
  {
   "cell_type": "code",
   "execution_count": 7,
   "metadata": {},
   "outputs": [
    {
     "data": {
      "image/png": "[encoded data removed]",
      "text/plain": [
       "<Figure size 432x288 with 30 Axes>"
      ]
     },
     "metadata": {},
     "output_type": "display_data"
    }
   ],
   "source": [
    "students_portugese.hist();"
   ]
  },
  {
   "cell_type": "code",
   "execution_count": 8,
   "metadata": {},
   "outputs": [
    {
     "data": {
      "image/png": "[encoded data removed]",
      "text/plain": [
       "<Figure size 432x288 with 1 Axes>"
      ]
     },
     "metadata": {},
     "output_type": "display_data"
    }
   ],
   "source": [
    "students_math['health'].hist();"
   ]
  },
  {
   "cell_type": "code",
   "execution_count": 9,
   "metadata": {},
   "outputs": [
    {
     "data": {
      "image/png": "[encoded data removed]",
      "text/plain": [
       "<Figure size 432x288 with 1 Axes>"
      ]
     },
     "metadata": {},
     "output_type": "display_data"
    }
   ],
   "source": [
    "students_portugese['health'].hist();"
   ]
  },
  {
   "cell_type": "code",
   "execution_count": 10,
   "metadata": {},
   "outputs": [
    {
     "name": "stdout",
     "output_type": "stream",
     "text": [
      "395 649\n"
     ]
    }
   ],
   "source": [
    "print(len(students_math), len(students_portugese))"
   ]
  },
  {
   "cell_type": "code",
   "execution_count": 11,
   "metadata": {},
   "outputs": [
    {
     "data": {
      "text/plain": [
       "<matplotlib.axes._subplots.AxesSubplot at 0x7f5444c54a58>"
      ]
     },
     "execution_count": 11,
     "metadata": {},
     "output_type": "execute_result"
    },
    {
     "data": {
      "image/png": "[encoded data removed]",
      "text/plain": [
       "<Figure size 432x288 with 2 Axes>"
      ]
     },
     "metadata": {},
     "output_type": "display_data"
    }
   ],
   "source": [
    "sns.heatmap(students_math.corr())"
   ]
  },
  {
   "cell_type": "code",
   "execution_count": 12,
   "metadata": {},
   "outputs": [
    {
     "data": {
      "text/plain": [
       "<matplotlib.axes._subplots.AxesSubplot at 0x7f5444bde080>"
      ]
     },
     "execution_count": 12,
     "metadata": {},
     "output_type": "execute_result"
    },
    {
     "data": {
      "image/png": "[encoded data removed]",
      "text/plain": [
       "<Figure size 432x288 with 2 Axes>"
      ]
     },
     "metadata": {},
     "output_type": "display_data"
    }
   ],
   "source": [
    "sns.heatmap(students_portugese.corr())"
   ]
  },
  {
   "cell_type": "markdown",
   "metadata": {},
   "source": [
    "# Looks like the two datasets show the same trends, as predicted. Accordingly, I will merge them together."
   ]
  },
  {
   "cell_type": "code",
   "execution_count": 13,
   "metadata": {},
   "outputs": [],
   "source": [
    "data = pd.concat([students_math, students_portugese])"
   ]
  },
  {
   "cell_type": "code",
   "execution_count": 14,
   "metadata": {},
   "outputs": [
    {
     "data": {
      "text/plain": [
       "<matplotlib.axes._subplots.AxesSubplot at 0x7f53f045c780>"
      ]
     },
     "execution_count": 14,
     "metadata": {},
     "output_type": "execute_result"
    },
    {
     "data": {
      "image/png": "[encoded data removed]",
      "text/plain": [
       "<Figure size 432x288 with 2 Axes>"
      ]
     },
     "metadata": {},
     "output_type": "display_data"
    }
   ],
   "source": [
    "sns.heatmap(data[['sex', 'age', 'address', 'famsize', 'reason', 'guardian', 'traveltime',\n",
    "       'studytime', 'failures', 'schoolsup', 'famsup', 'paid', 'activities',\n",
    "       'nursery', 'higher', 'internet', 'romantic', 'famrel', 'freetime',\n",
    "       'goout', 'Dalc', 'Walc', 'health', 'absences', 'G1', 'G2', 'G3']].corr())"
   ]
  },
  {
   "cell_type": "code",
   "execution_count": 15,
   "metadata": {},
   "outputs": [
    {
     "data": {
      "text/plain": [
       "sex\n",
       "0    591\n",
       "1    453\n",
       "dtype: int64"
      ]
     },
     "execution_count": 15,
     "metadata": {},
     "output_type": "execute_result"
    }
   ],
   "source": [
    "data.groupby('sex').size()"
   ]
  },
  {
   "cell_type": "code",
   "execution_count": 16,
   "metadata": {},
   "outputs": [
    {
     "data": {
      "text/html": [
       "<div>\n",
       "<style scoped>\n",
       "    .dataframe tbody tr th:only-of-type {\n",
       "        vertical-align: middle;\n",
       "    }\n",
       "\n",
       "    .dataframe tbody tr th {\n",
       "        vertical-align: top;\n",
       "    }\n",
       "\n",
       "    .dataframe thead th {\n",
       "        text-align: right;\n",
       "    }\n",
       "</style>\n",
       "<table border=\"1\" class=\"dataframe\">\n",
       "  <thead>\n",
       "    <tr style=\"text-align: right;\">\n",
       "      <th>sex</th>\n",
       "      <th>0</th>\n",
       "      <th>1</th>\n",
       "    </tr>\n",
       "    <tr>\n",
       "      <th>failures</th>\n",
       "      <th></th>\n",
       "      <th></th>\n",
       "    </tr>\n",
       "  </thead>\n",
       "  <tbody>\n",
       "    <tr>\n",
       "      <th>0</th>\n",
       "      <td>497</td>\n",
       "      <td>364</td>\n",
       "    </tr>\n",
       "    <tr>\n",
       "      <th>1</th>\n",
       "      <td>65</td>\n",
       "      <td>55</td>\n",
       "    </tr>\n",
       "    <tr>\n",
       "      <th>2</th>\n",
       "      <td>18</td>\n",
       "      <td>15</td>\n",
       "    </tr>\n",
       "    <tr>\n",
       "      <th>3</th>\n",
       "      <td>11</td>\n",
       "      <td>19</td>\n",
       "    </tr>\n",
       "  </tbody>\n",
       "</table>\n",
       "</div>"
      ],
      "text/plain": [
       "sex         0    1\n",
       "failures          \n",
       "0         497  364\n",
       "1          65   55\n",
       "2          18   15\n",
       "3          11   19"
      ]
     },
     "execution_count": 16,
     "metadata": {},
     "output_type": "execute_result"
    }
   ],
   "source": [
    "pd.crosstab(data['failures'], data['sex'])"
   ]
  },
  {
   "cell_type": "code",
   "execution_count": 17,
   "metadata": {},
   "outputs": [
    {
     "data": {
      "image/png": "[encoded data removed]",
      "text/plain": [
       "<Figure size 432x288 with 1 Axes>"
      ]
     },
     "metadata": {},
     "output_type": "display_data"
    }
   ],
   "source": [
    "#Number of past class failures. 3 means 3 or more\n",
    "\n",
    "ct = pd.crosstab(data['failures'], data['sex']).reset_index()\n",
    "ct['total'] = ct.sum(axis=1)\n",
    "\n",
    "for sex in data.sex.unique():\n",
    "     ct[sex] = ct.apply(lambda ct: ct[sex]/ct.total*100, axis=1)  \n",
    "\n",
    "ct = ct.drop(['total', 'failures'], axis=1)        \n",
    "\n",
    "ct.plot.bar(stacked=True)\n",
    "plt.legend(title='sex')\n",
    "\n",
    "plt.show()"
   ]
  },
  {
   "cell_type": "code",
   "execution_count": 18,
   "metadata": {},
   "outputs": [
    {
     "data": {
      "image/png": "[encoded data removed]",
      "text/plain": [
       "<Figure size 432x288 with 1 Axes>"
      ]
     },
     "metadata": {},
     "output_type": "display_data"
    }
   ],
   "source": [
    "# Weekend alcohol consumption\n",
    "ct = pd.crosstab(data['Walc'], data['sex']).reset_index()\n",
    "ct['total'] = ct.sum(axis=1)\n",
    "\n",
    "for sex in data.sex.unique():\n",
    "     ct[sex] = ct.apply(lambda ct: ct[sex]/ct.total*100, axis=1)  \n",
    "\n",
    "ct = ct.drop(['total', 'Walc'], axis=1)        \n",
    "\n",
    "ct.plot.bar(stacked=True)\n",
    "plt.legend(title='sex')\n",
    "\n",
    "plt.show()"
   ]
  },
  {
   "cell_type": "code",
   "execution_count": 19,
   "metadata": {},
   "outputs": [
    {
     "data": {
      "image/png": "[encoded data removed]",
      "text/plain": [
       "<Figure size 432x288 with 1 Axes>"
      ]
     },
     "metadata": {},
     "output_type": "display_data"
    }
   ],
   "source": [
    "#in a romantic relationship\n",
    "\n",
    "ct = pd.crosstab(data['romantic'], data['sex']).reset_index()\n",
    "ct['total'] = ct.sum(axis=1)\n",
    "\n",
    "for sex in data.sex.unique():\n",
    "     ct[sex] = ct.apply(lambda ct: ct[sex]/ct.total*100, axis=1)  \n",
    "\n",
    "ct = ct.drop(['total', 'romantic'], axis=1)        \n",
    "\n",
    "ct.plot.bar(stacked=True)\n",
    "plt.legend(title='sex')\n",
    "\n",
    "plt.show()"
   ]
  },
  {
   "cell_type": "code",
   "execution_count": 20,
   "metadata": {},
   "outputs": [
    {
     "data": {
      "image/png": "[encoded data removed]",
      "text/plain": [
       "<Figure size 432x288 with 1 Axes>"
      ]
     },
     "metadata": {},
     "output_type": "display_data"
    }
   ],
   "source": [
    "# Whether or not they went to a 'nursery school'\n",
    "\n",
    "ct = pd.crosstab(data['nursery'], data['sex']).reset_index()\n",
    "ct['total'] = ct.sum(axis=1)\n",
    "\n",
    "for sex in data.sex.unique():\n",
    "     ct[sex] = ct.apply(lambda ct: ct[sex]/ct.total*100, axis=1)  \n",
    "\n",
    "ct = ct.drop(['total', 'nursery'], axis=1)        \n",
    "\n",
    "ct.plot.bar(stacked=True)\n",
    "plt.legend(title='sex')\n",
    "\n",
    "plt.show()"
   ]
  },
  {
   "cell_type": "code",
   "execution_count": 21,
   "metadata": {},
   "outputs": [
    {
     "data": {
      "image/png": "[encoded data removed]",
      "text/plain": [
       "<Figure size 432x288 with 1 Axes>"
      ]
     },
     "metadata": {},
     "output_type": "display_data"
    }
   ],
   "source": [
    "# workday alcohol consumption\n",
    "\n",
    "ct = pd.crosstab(data['Dalc'], data['sex']).reset_index()\n",
    "ct['total'] = ct.sum(axis=1)\n",
    "\n",
    "for sex in data.sex.unique():\n",
    "     ct[sex] = ct.apply(lambda ct: ct[sex]/ct.total*100, axis=1)  \n",
    "\n",
    "ct = ct.drop(['total', 'Dalc'], axis=1)        \n",
    "\n",
    "ct.plot.bar(stacked=True)\n",
    "plt.legend(title='sex')\n",
    "\n",
    "plt.show()"
   ]
  },
  {
   "cell_type": "code",
   "execution_count": 22,
   "metadata": {},
   "outputs": [
    {
     "data": {
      "text/html": [
       "<div>\n",
       "<style scoped>\n",
       "    .dataframe tbody tr th:only-of-type {\n",
       "        vertical-align: middle;\n",
       "    }\n",
       "\n",
       "    .dataframe tbody tr th {\n",
       "        vertical-align: top;\n",
       "    }\n",
       "\n",
       "    .dataframe thead th {\n",
       "        text-align: right;\n",
       "    }\n",
       "</style>\n",
       "<table border=\"1\" class=\"dataframe\">\n",
       "  <thead>\n",
       "    <tr style=\"text-align: right;\">\n",
       "      <th>sex</th>\n",
       "      <th>0</th>\n",
       "      <th>1</th>\n",
       "    </tr>\n",
       "    <tr>\n",
       "      <th>traveltime</th>\n",
       "      <th></th>\n",
       "      <th></th>\n",
       "    </tr>\n",
       "  </thead>\n",
       "  <tbody>\n",
       "    <tr>\n",
       "      <th>1</th>\n",
       "      <td>357</td>\n",
       "      <td>266</td>\n",
       "    </tr>\n",
       "    <tr>\n",
       "      <th>2</th>\n",
       "      <td>184</td>\n",
       "      <td>136</td>\n",
       "    </tr>\n",
       "    <tr>\n",
       "      <th>3</th>\n",
       "      <td>41</td>\n",
       "      <td>36</td>\n",
       "    </tr>\n",
       "    <tr>\n",
       "      <th>4</th>\n",
       "      <td>9</td>\n",
       "      <td>15</td>\n",
       "    </tr>\n",
       "  </tbody>\n",
       "</table>\n",
       "</div>"
      ],
      "text/plain": [
       "sex           0    1\n",
       "traveltime          \n",
       "1           357  266\n",
       "2           184  136\n",
       "3            41   36\n",
       "4             9   15"
      ]
     },
     "execution_count": 22,
     "metadata": {},
     "output_type": "execute_result"
    }
   ],
   "source": [
    "pd.crosstab(data['traveltime'], data['sex'])"
   ]
  },
  {
   "cell_type": "code",
   "execution_count": 23,
   "metadata": {},
   "outputs": [],
   "source": [
    "#sns.pairplot(data[['sex', 'age', 'famsize', 'reason', 'traveltime',\n",
    "#       'studytime', 'failures', 'paid', 'activities',\n",
    "#       'higher', 'internet', 'romantic', 'famrel', 'freetime',\n",
    "#       'goout', 'Dalc', 'Walc', 'health', 'absences', 'G3']])"
   ]
  },
  {
   "cell_type": "code",
   "execution_count": 24,
   "metadata": {},
   "outputs": [
    {
     "data": {
      "text/plain": [
       "Index(['sex', 'age', 'address', 'famsize', 'reason', 'guardian', 'traveltime',\n",
       "       'studytime', 'failures', 'schoolsup', 'famsup', 'paid', 'activities',\n",
       "       'nursery', 'higher', 'internet', 'romantic', 'famrel', 'freetime',\n",
       "       'goout', 'Dalc', 'Walc', 'health', 'absences', 'G1', 'G2', 'G3'],\n",
       "      dtype='object')"
      ]
     },
     "execution_count": 24,
     "metadata": {},
     "output_type": "execute_result"
    }
   ],
   "source": [
    "data.columns"
   ]
  },
  {
   "cell_type": "code",
   "execution_count": 25,
   "metadata": {},
   "outputs": [],
   "source": [
    "for col_name in ['reason', 'guardian', 'romantic']:\n",
    "    encoded = pd.get_dummies(data[col_name])\n",
    "    new_labels = [col_name + str(num) for num in encoded.columns]\n",
    "    encoded.columns = new_labels\n",
    "    data = data.join(encoded).drop(col_name)"
   ]
  },
  {
   "cell_type": "markdown",
   "metadata": {},
   "source": [
    "# Gaussian Naive Bayes"
   ]
  },
  {
   "cell_type": "code",
   "execution_count": 26,
   "metadata": {},
   "outputs": [
    {
     "data": {
      "text/plain": [
       "0.6930209617755857"
      ]
     },
     "execution_count": 26,
     "metadata": {},
     "output_type": "execute_result"
    }
   ],
   "source": [
    "from sklearn.naive_bayes import GaussianNB\n",
    "model_naive = GaussianNB()\n",
    "X = data.iloc[:,1:] # all rows, all the features and no labels\n",
    "y = data.iloc[:, 0] # all rows, label only\n",
    "\n",
    "X_train, X_test, y_train, y_test = train_test_split(X,y,test_size=.2, random_state=4)\n",
    "\n",
    "model_naive.fit(X_train,y_train)\n",
    "\n",
    "ypred_gnb = model_naive.predict(X_test)\n",
    "\n",
    "gnb_accuracy = metrics.accuracy_score(y_test, ypred_gnb)\n",
    "gnb_accuracy"
   ]
  },
  {
   "cell_type": "code",
   "execution_count": 27,
   "metadata": {},
   "outputs": [
    {
     "data": {
      "text/plain": [
       "array([[8895, 2043],\n",
       "       [4181, 5156]])"
      ]
     },
     "execution_count": 27,
     "metadata": {},
     "output_type": "execute_result"
    }
   ],
   "source": [
    "# True  negative, False positive\n",
    "# False negative, True Positive\n",
    "\n",
    "gnb_confusion = confusion_matrix(y_test, ypred_gnb)\n",
    "gnb_confusion"
   ]
  },
  {
   "cell_type": "code",
   "execution_count": 28,
   "metadata": {},
   "outputs": [
    {
     "name": "stdout",
     "output_type": "stream",
     "text": [
      "             precision    recall  f1-score   support\n",
      "\n",
      "       male       0.68      0.81      0.74     10938\n",
      "     female       0.72      0.55      0.62      9337\n",
      "\n",
      "avg / total       0.70      0.69      0.69     20275\n",
      "\n"
     ]
    }
   ],
   "source": [
    "from sklearn.metrics import classification_report\n",
    "\n",
    "gnb_classification = classification_report(y_test, ypred_gnb, target_names=['male', 'female'])\n",
    "print(gnb_classification)"
   ]
  },
  {
   "cell_type": "code",
   "execution_count": 29,
   "metadata": {},
   "outputs": [
    {
     "data": {
      "text/plain": [
       "0.6827157991160631"
      ]
     },
     "execution_count": 29,
     "metadata": {},
     "output_type": "execute_result"
    }
   ],
   "source": [
    "from sklearn.metrics import roc_auc_score\n",
    "\n",
    "gnb_roc = roc_auc_score(y_test, ypred_gnb)\n",
    "gnb_roc"
   ]
  },
  {
   "cell_type": "markdown",
   "metadata": {},
   "source": [
    "# Decision Tree"
   ]
  },
  {
   "cell_type": "code",
   "execution_count": 30,
   "metadata": {},
   "outputs": [
    {
     "data": {
      "text/plain": [
       "0.7879654747225647"
      ]
     },
     "execution_count": 30,
     "metadata": {},
     "output_type": "execute_result"
    }
   ],
   "source": [
    "from sklearn.tree import DecisionTreeClassifier\n",
    "model_tree = DecisionTreeClassifier(max_depth=5)\n",
    "\n",
    "model_tree.fit(X_train,y_train)\n",
    "\n",
    "ypred_dt = model_tree.predict(X_test)\n",
    "\n",
    "dt_accuracy = metrics.accuracy_score(y_test, ypred_dt)\n",
    "dt_accuracy"
   ]
  },
  {
   "cell_type": "code",
   "execution_count": 31,
   "metadata": {},
   "outputs": [
    {
     "data": {
      "text/plain": [
       "array([[10128,   810],\n",
       "       [ 3489,  5848]])"
      ]
     },
     "execution_count": 31,
     "metadata": {},
     "output_type": "execute_result"
    }
   ],
   "source": [
    "# True  negative, False positive\n",
    "# False negative, True Positive\n",
    "\n",
    "dt_confusion = confusion_matrix(y_test, ypred_dt)\n",
    "dt_confusion"
   ]
  },
  {
   "cell_type": "code",
   "execution_count": 32,
   "metadata": {},
   "outputs": [
    {
     "name": "stdout",
     "output_type": "stream",
     "text": [
      "             precision    recall  f1-score   support\n",
      "\n",
      "       male       0.74      0.93      0.82     10938\n",
      "     female       0.88      0.63      0.73      9337\n",
      "\n",
      "avg / total       0.81      0.79      0.78     20275\n",
      "\n"
     ]
    }
   ],
   "source": [
    "dt_classification = classification_report(y_test, ypred_dt, target_names=['male', 'female'])\n",
    "print(dt_classification)"
   ]
  },
  {
   "cell_type": "code",
   "execution_count": 33,
   "metadata": {},
   "outputs": [
    {
     "data": {
      "text/plain": [
       "0.7761358073163522"
      ]
     },
     "execution_count": 33,
     "metadata": {},
     "output_type": "execute_result"
    }
   ],
   "source": [
    "dt_roc = roc_auc_score(y_test, ypred_dt)\n",
    "dt_roc"
   ]
  },
  {
   "cell_type": "markdown",
   "metadata": {},
   "source": [
    "# Random Forests"
   ]
  },
  {
   "cell_type": "code",
   "execution_count": 34,
   "metadata": {},
   "outputs": [
    {
     "data": {
      "text/plain": [
       "0.8174599260172626"
      ]
     },
     "execution_count": 34,
     "metadata": {},
     "output_type": "execute_result"
    }
   ],
   "source": [
    "from sklearn.ensemble import RandomForestClassifier\n",
    "model_RR = RandomForestClassifier(max_depth=5)\n",
    "\n",
    "model_RR.fit(X_train,y_train)\n",
    "\n",
    "ypred_rf = model_RR.predict(X_test)\n",
    "\n",
    "rf_accuracy = metrics.accuracy_score(y_test, ypred_rf)\n",
    "rf_accuracy"
   ]
  },
  {
   "cell_type": "code",
   "execution_count": 35,
   "metadata": {},
   "outputs": [
    {
     "data": {
      "text/plain": [
       "array([[10208,   730],\n",
       "       [ 2971,  6366]])"
      ]
     },
     "execution_count": 35,
     "metadata": {},
     "output_type": "execute_result"
    }
   ],
   "source": [
    "# True  negative, False positive\n",
    "# False negative, True Positive\n",
    "\n",
    "rf_confusion = confusion_matrix(y_test, ypred_rf)\n",
    "rf_confusion"
   ]
  },
  {
   "cell_type": "code",
   "execution_count": 36,
   "metadata": {},
   "outputs": [
    {
     "name": "stdout",
     "output_type": "stream",
     "text": [
      "             precision    recall  f1-score   support\n",
      "\n",
      "       male       0.77      0.93      0.85     10938\n",
      "     female       0.90      0.68      0.77      9337\n",
      "\n",
      "avg / total       0.83      0.82      0.81     20275\n",
      "\n"
     ]
    }
   ],
   "source": [
    "rf_classification = classification_report(y_test, ypred_rf, target_names=['male', 'female'])\n",
    "print(rf_classification)"
   ]
  },
  {
   "cell_type": "code",
   "execution_count": 37,
   "metadata": {},
   "outputs": [
    {
     "data": {
      "text/plain": [
       "0.8075318854929123"
      ]
     },
     "execution_count": 37,
     "metadata": {},
     "output_type": "execute_result"
    }
   ],
   "source": [
    "rf_roc = roc_auc_score(y_test, ypred_rf)\n",
    "rf_roc"
   ]
  },
  {
   "cell_type": "code",
   "execution_count": 38,
   "metadata": {},
   "outputs": [
    {
     "name": "stdout",
     "output_type": "stream",
     "text": [
      "Accuracy scores: \n",
      "\tGaussian Naive Bayes\n",
      "\t 0.693\n",
      "\tDecision Tree\n",
      "\t 0.788\n",
      "\tRandom Forest\n",
      "\t 0.817\n",
      "\n",
      "\n",
      "Confusion Matrices: \n",
      "\tGaussian Naive Bayes\n",
      "[[8895 2043]\n",
      " [4181 5156]]\n",
      "\tDecision Tree\n",
      "[[10128   810]\n",
      " [ 3489  5848]]\n",
      "\tRandom Forest\n",
      "[[10208   730]\n",
      " [ 2971  6366]]\n",
      "\n",
      "\n",
      "Classification Reports: \n",
      "\tGaussian Naive Bayes\n",
      "\t              precision    recall  f1-score   support\n",
      "\n",
      "       male       0.68      0.81      0.74     10938\n",
      "     female       0.72      0.55      0.62      9337\n",
      "\n",
      "avg / total       0.70      0.69      0.69     20275\n",
      "\n",
      "\tDecision Tree\n",
      "\t              precision    recall  f1-score   support\n",
      "\n",
      "       male       0.74      0.93      0.82     10938\n",
      "     female       0.88      0.63      0.73      9337\n",
      "\n",
      "avg / total       0.81      0.79      0.78     20275\n",
      "\n",
      "\tRandom Forest\n",
      "\t              precision    recall  f1-score   support\n",
      "\n",
      "       male       0.77      0.93      0.85     10938\n",
      "     female       0.90      0.68      0.77      9337\n",
      "\n",
      "avg / total       0.83      0.82      0.81     20275\n",
      "\n",
      "\n",
      "\n",
      "ROC scores: \n",
      "\tGaussian Naive Bayes\n",
      "\t 0.683\n",
      "\tDecision Tree\n",
      "\t 0.776\n",
      "\tRandom Forest\n",
      "\t 0.808\n"
     ]
    }
   ],
   "source": [
    "print('Accuracy scores: ')\n",
    "print('\\tGaussian Naive Bayes')\n",
    "print('\\t', gnb_accuracy.round(3))\n",
    "print('\\tDecision Tree')\n",
    "print('\\t', dt_accuracy.round(3))\n",
    "print('\\tRandom Forest')\n",
    "print('\\t', rf_accuracy.round(3))\n",
    "\n",
    "print('\\n')\n",
    "\n",
    "print('Confusion Matrices: ')\n",
    "print('\\tGaussian Naive Bayes')\n",
    "print(gnb_confusion)\n",
    "print('\\tDecision Tree')\n",
    "print(dt_confusion)\n",
    "print('\\tRandom Forest')\n",
    "print(rf_confusion)\n",
    "\n",
    "print('\\n')\n",
    "\n",
    "print('Classification Reports: ')\n",
    "print('\\tGaussian Naive Bayes')\n",
    "print('\\t', gnb_classification)\n",
    "print('\\tDecision Tree')\n",
    "print('\\t', dt_classification)\n",
    "print('\\tRandom Forest')\n",
    "print('\\t', rf_classification)\n",
    "\n",
    "print('\\n')\n",
    "\n",
    "print('ROC scores: ')\n",
    "print('\\tGaussian Naive Bayes')\n",
    "print('\\t', gnb_roc.round(3))\n",
    "print('\\tDecision Tree')\n",
    "print('\\t', dt_roc.round(3))\n",
    "print('\\tRandom Forest')\n",
    "print('\\t', rf_roc.round(3))"
   ]
  },
  {
   "cell_type": "markdown",
   "metadata": {},
   "source": [
    "# It looks like random forests are the best. Now for some pruning\n",
    "## Let's see if we can predict sex with alcohol habits alone"
   ]
  },
  {
   "cell_type": "code",
   "execution_count": 39,
   "metadata": {},
   "outputs": [],
   "source": [
    "data_ja = data.drop(['sex', 'age', 'address', 'famsize', 'reason', 'guardian', 'traveltime',\n",
    "        'studytime', 'failures', 'schoolsup', 'famsup', 'paid', 'activities',\n",
    "        'nursery', 'higher', 'internet', 'romantic', 'famrel', 'freetime',\n",
    "        'health', 'absences', 'G1', 'G2', 'G3', 'reason0', 'reason1', 'reason2', 'reason3',\n",
    "        'guardian0', 'guardian1', 'guardian2','romantic0', 'romantic1'], axis=1)"
   ]
  },
  {
   "cell_type": "code",
   "execution_count": 40,
   "metadata": {},
   "outputs": [
    {
     "data": {
      "text/html": [
       "<div>\n",
       "<style scoped>\n",
       "    .dataframe tbody tr th:only-of-type {\n",
       "        vertical-align: middle;\n",
       "    }\n",
       "\n",
       "    .dataframe tbody tr th {\n",
       "        vertical-align: top;\n",
       "    }\n",
       "\n",
       "    .dataframe thead th {\n",
       "        text-align: right;\n",
       "    }\n",
       "</style>\n",
       "<table border=\"1\" class=\"dataframe\">\n",
       "  <thead>\n",
       "    <tr style=\"text-align: right;\">\n",
       "      <th></th>\n",
       "      <th>goout</th>\n",
       "      <th>Dalc</th>\n",
       "      <th>Walc</th>\n",
       "    </tr>\n",
       "  </thead>\n",
       "  <tbody>\n",
       "    <tr>\n",
       "      <th>0</th>\n",
       "      <td>4</td>\n",
       "      <td>1</td>\n",
       "      <td>1</td>\n",
       "    </tr>\n",
       "    <tr>\n",
       "      <th>0</th>\n",
       "      <td>4</td>\n",
       "      <td>1</td>\n",
       "      <td>1</td>\n",
       "    </tr>\n",
       "    <tr>\n",
       "      <th>0</th>\n",
       "      <td>4</td>\n",
       "      <td>1</td>\n",
       "      <td>1</td>\n",
       "    </tr>\n",
       "    <tr>\n",
       "      <th>0</th>\n",
       "      <td>4</td>\n",
       "      <td>1</td>\n",
       "      <td>1</td>\n",
       "    </tr>\n",
       "    <tr>\n",
       "      <th>0</th>\n",
       "      <td>4</td>\n",
       "      <td>1</td>\n",
       "      <td>1</td>\n",
       "    </tr>\n",
       "  </tbody>\n",
       "</table>\n",
       "</div>"
      ],
      "text/plain": [
       "   goout  Dalc  Walc\n",
       "0      4     1     1\n",
       "0      4     1     1\n",
       "0      4     1     1\n",
       "0      4     1     1\n",
       "0      4     1     1"
      ]
     },
     "execution_count": 40,
     "metadata": {},
     "output_type": "execute_result"
    }
   ],
   "source": [
    "X_ja = data_ja.iloc[:,:] # all rows, all the features and no labels\n",
    "X_train_ja, X_test_ja, y_train_ja, y_test_ja = train_test_split(X_ja,y,test_size=.2, random_state=4)\n",
    "data_ja.head()"
   ]
  },
  {
   "cell_type": "code",
   "execution_count": 41,
   "metadata": {},
   "outputs": [
    {
     "data": {
      "text/plain": [
       "0.6747718865598027"
      ]
     },
     "execution_count": 41,
     "metadata": {},
     "output_type": "execute_result"
    }
   ],
   "source": [
    "model_RF_ja = RandomForestClassifier(max_depth=5)\n",
    "\n",
    "model_RF_ja.fit(X_train_ja,y_train_ja)\n",
    "\n",
    "ypred_rf_ja = model_RF_ja.predict(X_test_ja)\n",
    "\n",
    "metrics.accuracy_score(y_test_ja, ypred_rf_ja)"
   ]
  },
  {
   "cell_type": "code",
   "execution_count": 42,
   "metadata": {},
   "outputs": [
    {
     "data": {
      "text/plain": [
       "array([[10050,   888],\n",
       "       [ 5706,  3631]])"
      ]
     },
     "execution_count": 42,
     "metadata": {},
     "output_type": "execute_result"
    }
   ],
   "source": [
    "# True  negative, False positive\n",
    "# False negative, True Positive\n",
    "\n",
    "confusion_matrix(y_test_ja, ypred_rf_ja)"
   ]
  },
  {
   "cell_type": "code",
   "execution_count": 43,
   "metadata": {},
   "outputs": [
    {
     "name": "stdout",
     "output_type": "stream",
     "text": [
      "             precision    recall  f1-score   support\n",
      "\n",
      "       male       0.64      0.92      0.75     10938\n",
      "     female       0.80      0.39      0.52      9337\n",
      "\n",
      "avg / total       0.71      0.67      0.65     20275\n",
      "\n"
     ]
    }
   ],
   "source": [
    "print(classification_report(y_test_ja, ypred_rf_ja, target_names=['male', 'female']))"
   ]
  },
  {
   "cell_type": "code",
   "execution_count": 44,
   "metadata": {},
   "outputs": [
    {
     "data": {
      "text/plain": [
       "0.6538490393623867"
      ]
     },
     "execution_count": 44,
     "metadata": {},
     "output_type": "execute_result"
    }
   ],
   "source": [
    "roc_auc_score(y_test_ja, ypred_rf_ja)"
   ]
  },
  {
   "cell_type": "markdown",
   "metadata": {},
   "source": [
    "# Predicting sex based on student alcohol habits alone is not as good as including the other columns, but it is just as accurate as predicting from all the values without one hot encoding\n"
   ]
  },
  {
   "cell_type": "code",
   "execution_count": null,
   "metadata": {},
   "outputs": [],
   "source": []
  },
  {
   "cell_type": "markdown",
   "metadata": {},
   "source": [
    "# Conclusions\n",
    "### Including school in the dataset improves the accuracy and ROC AUC scores by several percentage points, but the school parameter is irrelevant if students from other schools were fed into this model.\n",
    "\n",
    "### One hot encoding just a few columns improved accuracy and ROC by about .1"
   ]
  },
  {
   "cell_type": "markdown",
   "metadata": {},
   "source": [
    "# Additional Work\n",
    "\n",
    "### A. Do some exploratory data analysis on the incorrectly classified rows of data. What can you learn aobut this subset? How does it compare to the dataset as a whole or even look at how it compares to the set of correctly classified instances. Does this inspire any further preprocessing of the data or perhaps some additional variables that you could add? If so add them and investigate the results."
   ]
  },
  {
   "cell_type": "code",
   "execution_count": 45,
   "metadata": {},
   "outputs": [
    {
     "data": {
      "text/html": [
       "<div>\n",
       "<style scoped>\n",
       "    .dataframe tbody tr th:only-of-type {\n",
       "        vertical-align: middle;\n",
       "    }\n",
       "\n",
       "    .dataframe tbody tr th {\n",
       "        vertical-align: top;\n",
       "    }\n",
       "\n",
       "    .dataframe thead th {\n",
       "        text-align: right;\n",
       "    }\n",
       "</style>\n",
       "<table border=\"1\" class=\"dataframe\">\n",
       "  <thead>\n",
       "    <tr style=\"text-align: right;\">\n",
       "      <th></th>\n",
       "      <th>sex</th>\n",
       "      <th>age</th>\n",
       "      <th>address</th>\n",
       "      <th>famsize</th>\n",
       "      <th>reason</th>\n",
       "      <th>guardian</th>\n",
       "      <th>traveltime</th>\n",
       "      <th>studytime</th>\n",
       "      <th>failures</th>\n",
       "      <th>schoolsup</th>\n",
       "      <th>...</th>\n",
       "      <th>G3</th>\n",
       "      <th>reason0</th>\n",
       "      <th>reason1</th>\n",
       "      <th>reason2</th>\n",
       "      <th>reason3</th>\n",
       "      <th>guardian0</th>\n",
       "      <th>guardian1</th>\n",
       "      <th>guardian2</th>\n",
       "      <th>romantic0</th>\n",
       "      <th>romantic1</th>\n",
       "    </tr>\n",
       "  </thead>\n",
       "  <tbody>\n",
       "    <tr>\n",
       "      <th>0</th>\n",
       "      <td>0</td>\n",
       "      <td>18</td>\n",
       "      <td>1</td>\n",
       "      <td>0</td>\n",
       "      <td>0</td>\n",
       "      <td>1</td>\n",
       "      <td>2</td>\n",
       "      <td>2</td>\n",
       "      <td>0</td>\n",
       "      <td>1</td>\n",
       "      <td>...</td>\n",
       "      <td>6</td>\n",
       "      <td>1</td>\n",
       "      <td>0</td>\n",
       "      <td>0</td>\n",
       "      <td>0</td>\n",
       "      <td>0</td>\n",
       "      <td>1</td>\n",
       "      <td>0</td>\n",
       "      <td>1</td>\n",
       "      <td>0</td>\n",
       "    </tr>\n",
       "    <tr>\n",
       "      <th>0</th>\n",
       "      <td>0</td>\n",
       "      <td>18</td>\n",
       "      <td>1</td>\n",
       "      <td>0</td>\n",
       "      <td>0</td>\n",
       "      <td>1</td>\n",
       "      <td>2</td>\n",
       "      <td>2</td>\n",
       "      <td>0</td>\n",
       "      <td>1</td>\n",
       "      <td>...</td>\n",
       "      <td>6</td>\n",
       "      <td>1</td>\n",
       "      <td>0</td>\n",
       "      <td>0</td>\n",
       "      <td>0</td>\n",
       "      <td>0</td>\n",
       "      <td>1</td>\n",
       "      <td>0</td>\n",
       "      <td>1</td>\n",
       "      <td>0</td>\n",
       "    </tr>\n",
       "    <tr>\n",
       "      <th>0</th>\n",
       "      <td>0</td>\n",
       "      <td>18</td>\n",
       "      <td>1</td>\n",
       "      <td>0</td>\n",
       "      <td>0</td>\n",
       "      <td>1</td>\n",
       "      <td>2</td>\n",
       "      <td>2</td>\n",
       "      <td>0</td>\n",
       "      <td>1</td>\n",
       "      <td>...</td>\n",
       "      <td>6</td>\n",
       "      <td>1</td>\n",
       "      <td>0</td>\n",
       "      <td>0</td>\n",
       "      <td>0</td>\n",
       "      <td>0</td>\n",
       "      <td>1</td>\n",
       "      <td>0</td>\n",
       "      <td>1</td>\n",
       "      <td>0</td>\n",
       "    </tr>\n",
       "    <tr>\n",
       "      <th>0</th>\n",
       "      <td>0</td>\n",
       "      <td>18</td>\n",
       "      <td>1</td>\n",
       "      <td>0</td>\n",
       "      <td>0</td>\n",
       "      <td>1</td>\n",
       "      <td>2</td>\n",
       "      <td>2</td>\n",
       "      <td>0</td>\n",
       "      <td>1</td>\n",
       "      <td>...</td>\n",
       "      <td>6</td>\n",
       "      <td>1</td>\n",
       "      <td>0</td>\n",
       "      <td>0</td>\n",
       "      <td>0</td>\n",
       "      <td>0</td>\n",
       "      <td>1</td>\n",
       "      <td>0</td>\n",
       "      <td>1</td>\n",
       "      <td>0</td>\n",
       "    </tr>\n",
       "    <tr>\n",
       "      <th>0</th>\n",
       "      <td>0</td>\n",
       "      <td>18</td>\n",
       "      <td>1</td>\n",
       "      <td>0</td>\n",
       "      <td>0</td>\n",
       "      <td>1</td>\n",
       "      <td>2</td>\n",
       "      <td>2</td>\n",
       "      <td>0</td>\n",
       "      <td>1</td>\n",
       "      <td>...</td>\n",
       "      <td>6</td>\n",
       "      <td>1</td>\n",
       "      <td>0</td>\n",
       "      <td>0</td>\n",
       "      <td>0</td>\n",
       "      <td>0</td>\n",
       "      <td>1</td>\n",
       "      <td>0</td>\n",
       "      <td>1</td>\n",
       "      <td>0</td>\n",
       "    </tr>\n",
       "  </tbody>\n",
       "</table>\n",
       "<p>5 rows × 36 columns</p>\n",
       "</div>"
      ],
      "text/plain": [
       "   sex  age  address  famsize  reason  guardian  traveltime  studytime  \\\n",
       "0    0   18        1        0       0         1           2          2   \n",
       "0    0   18        1        0       0         1           2          2   \n",
       "0    0   18        1        0       0         1           2          2   \n",
       "0    0   18        1        0       0         1           2          2   \n",
       "0    0   18        1        0       0         1           2          2   \n",
       "\n",
       "   failures  schoolsup    ...      G3  reason0  reason1  reason2  reason3  \\\n",
       "0         0          1    ...       6        1        0        0        0   \n",
       "0         0          1    ...       6        1        0        0        0   \n",
       "0         0          1    ...       6        1        0        0        0   \n",
       "0         0          1    ...       6        1        0        0        0   \n",
       "0         0          1    ...       6        1        0        0        0   \n",
       "\n",
       "   guardian0  guardian1  guardian2  romantic0  romantic1  \n",
       "0          0          1          0          1          0  \n",
       "0          0          1          0          1          0  \n",
       "0          0          1          0          1          0  \n",
       "0          0          1          0          1          0  \n",
       "0          0          1          0          1          0  \n",
       "\n",
       "[5 rows x 36 columns]"
      ]
     },
     "execution_count": 45,
     "metadata": {},
     "output_type": "execute_result"
    }
   ],
   "source": [
    "data.head()"
   ]
  },
  {
   "cell_type": "code",
   "execution_count": 46,
   "metadata": {},
   "outputs": [
    {
     "name": "stderr",
     "output_type": "stream",
     "text": [
      "/usr/local/lib/python3.5/site-packages/ipykernel_launcher.py:1: SettingWithCopyWarning: \n",
      "A value is trying to be set on a copy of a slice from a DataFrame.\n",
      "Try using .loc[row_indexer,col_indexer] = value instead\n",
      "\n",
      "See the caveats in the documentation: http://pandas.pydata.org/pandas-docs/stable/indexing.html#indexing-view-versus-copy\n",
      "  \"\"\"Entry point for launching an IPython kernel.\n"
     ]
    },
    {
     "data": {
      "text/html": [
       "<div>\n",
       "<style scoped>\n",
       "    .dataframe tbody tr th:only-of-type {\n",
       "        vertical-align: middle;\n",
       "    }\n",
       "\n",
       "    .dataframe tbody tr th {\n",
       "        vertical-align: top;\n",
       "    }\n",
       "\n",
       "    .dataframe thead th {\n",
       "        text-align: right;\n",
       "    }\n",
       "</style>\n",
       "<table border=\"1\" class=\"dataframe\">\n",
       "  <thead>\n",
       "    <tr style=\"text-align: right;\">\n",
       "      <th></th>\n",
       "      <th>age</th>\n",
       "      <th>address</th>\n",
       "      <th>famsize</th>\n",
       "      <th>reason</th>\n",
       "      <th>guardian</th>\n",
       "      <th>traveltime</th>\n",
       "      <th>studytime</th>\n",
       "      <th>failures</th>\n",
       "      <th>schoolsup</th>\n",
       "      <th>famsup</th>\n",
       "      <th>...</th>\n",
       "      <th>reason0</th>\n",
       "      <th>reason1</th>\n",
       "      <th>reason2</th>\n",
       "      <th>reason3</th>\n",
       "      <th>guardian0</th>\n",
       "      <th>guardian1</th>\n",
       "      <th>guardian2</th>\n",
       "      <th>romantic0</th>\n",
       "      <th>romantic1</th>\n",
       "      <th>sex</th>\n",
       "    </tr>\n",
       "  </thead>\n",
       "  <tbody>\n",
       "    <tr>\n",
       "      <th>107</th>\n",
       "      <td>16</td>\n",
       "      <td>1</td>\n",
       "      <td>0</td>\n",
       "      <td>1</td>\n",
       "      <td>0</td>\n",
       "      <td>1</td>\n",
       "      <td>3</td>\n",
       "      <td>0</td>\n",
       "      <td>0</td>\n",
       "      <td>1</td>\n",
       "      <td>...</td>\n",
       "      <td>0</td>\n",
       "      <td>1</td>\n",
       "      <td>0</td>\n",
       "      <td>0</td>\n",
       "      <td>1</td>\n",
       "      <td>0</td>\n",
       "      <td>0</td>\n",
       "      <td>1</td>\n",
       "      <td>0</td>\n",
       "      <td>1</td>\n",
       "    </tr>\n",
       "    <tr>\n",
       "      <th>377</th>\n",
       "      <td>18</td>\n",
       "      <td>1</td>\n",
       "      <td>0</td>\n",
       "      <td>0</td>\n",
       "      <td>1</td>\n",
       "      <td>1</td>\n",
       "      <td>3</td>\n",
       "      <td>0</td>\n",
       "      <td>0</td>\n",
       "      <td>0</td>\n",
       "      <td>...</td>\n",
       "      <td>1</td>\n",
       "      <td>0</td>\n",
       "      <td>0</td>\n",
       "      <td>0</td>\n",
       "      <td>0</td>\n",
       "      <td>1</td>\n",
       "      <td>0</td>\n",
       "      <td>1</td>\n",
       "      <td>0</td>\n",
       "      <td>1</td>\n",
       "    </tr>\n",
       "    <tr>\n",
       "      <th>20</th>\n",
       "      <td>15</td>\n",
       "      <td>1</td>\n",
       "      <td>0</td>\n",
       "      <td>3</td>\n",
       "      <td>1</td>\n",
       "      <td>1</td>\n",
       "      <td>2</td>\n",
       "      <td>0</td>\n",
       "      <td>0</td>\n",
       "      <td>0</td>\n",
       "      <td>...</td>\n",
       "      <td>0</td>\n",
       "      <td>0</td>\n",
       "      <td>0</td>\n",
       "      <td>1</td>\n",
       "      <td>0</td>\n",
       "      <td>1</td>\n",
       "      <td>0</td>\n",
       "      <td>1</td>\n",
       "      <td>0</td>\n",
       "      <td>1</td>\n",
       "    </tr>\n",
       "    <tr>\n",
       "      <th>147</th>\n",
       "      <td>15</td>\n",
       "      <td>1</td>\n",
       "      <td>0</td>\n",
       "      <td>0</td>\n",
       "      <td>1</td>\n",
       "      <td>2</td>\n",
       "      <td>1</td>\n",
       "      <td>0</td>\n",
       "      <td>0</td>\n",
       "      <td>0</td>\n",
       "      <td>...</td>\n",
       "      <td>1</td>\n",
       "      <td>0</td>\n",
       "      <td>0</td>\n",
       "      <td>0</td>\n",
       "      <td>0</td>\n",
       "      <td>1</td>\n",
       "      <td>0</td>\n",
       "      <td>1</td>\n",
       "      <td>0</td>\n",
       "      <td>0</td>\n",
       "    </tr>\n",
       "    <tr>\n",
       "      <th>28</th>\n",
       "      <td>16</td>\n",
       "      <td>1</td>\n",
       "      <td>1</td>\n",
       "      <td>1</td>\n",
       "      <td>1</td>\n",
       "      <td>1</td>\n",
       "      <td>2</td>\n",
       "      <td>0</td>\n",
       "      <td>1</td>\n",
       "      <td>1</td>\n",
       "      <td>...</td>\n",
       "      <td>0</td>\n",
       "      <td>1</td>\n",
       "      <td>0</td>\n",
       "      <td>0</td>\n",
       "      <td>0</td>\n",
       "      <td>1</td>\n",
       "      <td>0</td>\n",
       "      <td>1</td>\n",
       "      <td>0</td>\n",
       "      <td>1</td>\n",
       "    </tr>\n",
       "  </tbody>\n",
       "</table>\n",
       "<p>5 rows × 36 columns</p>\n",
       "</div>"
      ],
      "text/plain": [
       "     age  address  famsize  reason  guardian  traveltime  studytime  failures  \\\n",
       "107   16        1        0       1         0           1          3         0   \n",
       "377   18        1        0       0         1           1          3         0   \n",
       "20    15        1        0       3         1           1          2         0   \n",
       "147   15        1        0       0         1           2          1         0   \n",
       "28    16        1        1       1         1           1          2         0   \n",
       "\n",
       "     schoolsup  famsup ...   reason0  reason1  reason2  reason3  guardian0  \\\n",
       "107          0       1 ...         0        1        0        0          1   \n",
       "377          0       0 ...         1        0        0        0          0   \n",
       "20           0       0 ...         0        0        0        1          0   \n",
       "147          0       0 ...         1        0        0        0          0   \n",
       "28           1       1 ...         0        1        0        0          0   \n",
       "\n",
       "     guardian1  guardian2  romantic0  romantic1  sex  \n",
       "107          0          0          1          0    1  \n",
       "377          1          0          1          0    1  \n",
       "20           1          0          1          0    1  \n",
       "147          1          0          1          0    0  \n",
       "28           1          0          1          0    1  \n",
       "\n",
       "[5 rows x 36 columns]"
      ]
     },
     "execution_count": 46,
     "metadata": {},
     "output_type": "execute_result"
    }
   ],
   "source": [
    "X_test['sex'] = y_test\n",
    "\n",
    "misclassified = X_test[y_test != ypred_rf]\n",
    "misclassified.head()"
   ]
  },
  {
   "cell_type": "code",
   "execution_count": 47,
   "metadata": {},
   "outputs": [
    {
     "data": {
      "text/plain": [
       "<matplotlib.axes._subplots.AxesSubplot at 0x7f53f0605240>"
      ]
     },
     "execution_count": 47,
     "metadata": {},
     "output_type": "execute_result"
    },
    {
     "data": {
      "image/png": "[encoded data removed]",
      "text/plain": [
       "<Figure size 432x288 with 2 Axes>"
      ]
     },
     "metadata": {},
     "output_type": "display_data"
    }
   ],
   "source": [
    "sns.heatmap(data.corr())"
   ]
  },
  {
   "cell_type": "code",
   "execution_count": 48,
   "metadata": {},
   "outputs": [
    {
     "data": {
      "text/plain": [
       "<matplotlib.axes._subplots.AxesSubplot at 0x7f53f0525438>"
      ]
     },
     "execution_count": 48,
     "metadata": {},
     "output_type": "execute_result"
    },
    {
     "data": {
      "image/png": "[encoded data removed]",
      "text/plain": [
       "<Figure size 432x288 with 2 Axes>"
      ]
     },
     "metadata": {},
     "output_type": "display_data"
    }
   ],
   "source": [
    "sns.heatmap(misclassified.corr())"
   ]
  },
  {
   "cell_type": "code",
   "execution_count": 49,
   "metadata": {},
   "outputs": [
    {
     "data": {
      "image/png": "[encoded data removed]",
      "text/plain": [
       "<Figure size 432x288 with 1 Axes>"
      ]
     },
     "metadata": {},
     "output_type": "display_data"
    }
   ],
   "source": [
    "# ORIGINAL Number of past class failures. 3 means 3 or more\n",
    "\n",
    "ct = pd.crosstab(data['failures'], data['sex']).reset_index()\n",
    "ct['total'] = ct.sum(axis=1)\n",
    "\n",
    "for sex in data.sex.unique():\n",
    "     ct[sex] = ct.apply(lambda ct: ct[sex]/ct.total*100, axis=1)  \n",
    "\n",
    "ct = ct.drop(['total', 'failures'], axis=1)        \n",
    "\n",
    "ct.plot.bar(stacked=True)\n",
    "plt.legend(title='sex')\n",
    "\n",
    "plt.show()"
   ]
  },
  {
   "cell_type": "code",
   "execution_count": 50,
   "metadata": {},
   "outputs": [
    {
     "data": {
      "image/png": "[encoded data removed]",
      "text/plain": [
       "<Figure size 432x288 with 1 Axes>"
      ]
     },
     "metadata": {},
     "output_type": "display_data"
    }
   ],
   "source": [
    "# MISCLASSIFIED Number of past class failures. 3 means 3 or more\n",
    "\n",
    "ct = pd.crosstab(misclassified['failures'], misclassified['sex']).reset_index()\n",
    "ct['total'] = ct.sum(axis=1)\n",
    "\n",
    "for sex in misclassified.sex.unique():\n",
    "     ct[sex] = ct.apply(lambda ct: ct[sex]/ct.total*100, axis=1)  \n",
    "\n",
    "ct = ct.drop(['total', 'failures'], axis=1)        \n",
    "\n",
    "ct.plot.bar(stacked=True)\n",
    "plt.legend(title='sex')\n",
    "\n",
    "plt.show()"
   ]
  },
  {
   "cell_type": "code",
   "execution_count": 51,
   "metadata": {},
   "outputs": [
    {
     "data": {
      "image/png": "[encoded data removed]",
      "text/plain": [
       "<Figure size 432x288 with 1 Axes>"
      ]
     },
     "metadata": {},
     "output_type": "display_data"
    }
   ],
   "source": [
    "# ORIGINAL Weekend alcohol consumption\n",
    "ct = pd.crosstab(data['Walc'], data['sex']).reset_index()\n",
    "ct['total'] = ct.sum(axis=1)\n",
    "\n",
    "for sex in data.sex.unique():\n",
    "     ct[sex] = ct.apply(lambda ct: ct[sex]/ct.total*100, axis=1)  \n",
    "\n",
    "ct = ct.drop(['total', 'Walc'], axis=1)        \n",
    "\n",
    "ct.plot.bar(stacked=True)\n",
    "plt.legend(title='sex')\n",
    "\n",
    "plt.show()"
   ]
  },
  {
   "cell_type": "code",
   "execution_count": 52,
   "metadata": {},
   "outputs": [
    {
     "data": {
      "image/png": "[encoded data removed]",
      "text/plain": [
       "<Figure size 432x288 with 1 Axes>"
      ]
     },
     "metadata": {},
     "output_type": "display_data"
    }
   ],
   "source": [
    "# MISCLASSIFIED Weekend alcohol consumption\n",
    "ct = pd.crosstab(misclassified['Walc'], misclassified['sex']).reset_index()\n",
    "ct['total'] = ct.sum(axis=1)\n",
    "\n",
    "for sex in misclassified.sex.unique():\n",
    "     ct[sex] = ct.apply(lambda ct: ct[sex]/ct.total*100, axis=1)  \n",
    "\n",
    "ct = ct.drop(['total', 'Walc'], axis=1)        \n",
    "\n",
    "ct.plot.bar(stacked=True)\n",
    "plt.legend(title='sex')\n",
    "\n",
    "plt.show()"
   ]
  },
  {
   "cell_type": "code",
   "execution_count": 53,
   "metadata": {},
   "outputs": [
    {
     "data": {
      "image/png": "[encoded data removed]",
      "text/plain": [
       "<Figure size 432x288 with 1 Axes>"
      ]
     },
     "metadata": {},
     "output_type": "display_data"
    }
   ],
   "source": [
    "# ORIGINAL Whether or not they went to a 'nursery school'\n",
    "\n",
    "ct = pd.crosstab(data['nursery'], data['sex']).reset_index()\n",
    "ct['total'] = ct.sum(axis=1)\n",
    "\n",
    "for sex in data.sex.unique():\n",
    "     ct[sex] = ct.apply(lambda ct: ct[sex]/ct.total*100, axis=1)  \n",
    "\n",
    "ct = ct.drop(['total', 'nursery'], axis=1)        \n",
    "\n",
    "ct.plot.bar(stacked=True)\n",
    "plt.legend(title='sex')\n",
    "\n",
    "plt.show()"
   ]
  },
  {
   "cell_type": "code",
   "execution_count": 54,
   "metadata": {},
   "outputs": [
    {
     "data": {
      "image/png": "[encoded data removed]",
      "text/plain": [
       "<Figure size 432x288 with 1 Axes>"
      ]
     },
     "metadata": {},
     "output_type": "display_data"
    }
   ],
   "source": [
    "# MISCLASSIFIED Whether or not they went to a 'nursery school'\n",
    "\n",
    "ct = pd.crosstab(misclassified['nursery'], misclassified['sex']).reset_index()\n",
    "ct['total'] = ct.sum(axis=1)\n",
    "\n",
    "for sex in misclassified.sex.unique():\n",
    "     ct[sex] = ct.apply(lambda ct: ct[sex]/ct.total*100, axis=1)  \n",
    "\n",
    "ct = ct.drop(['total', 'nursery'], axis=1)        \n",
    "\n",
    "ct.plot.bar(stacked=True)\n",
    "plt.legend(title='sex')\n",
    "\n",
    "plt.show()"
   ]
  },
  {
   "cell_type": "code",
   "execution_count": 55,
   "metadata": {},
   "outputs": [
    {
     "data": {
      "text/plain": [
       "sex\n",
       "0     730\n",
       "1    2971\n",
       "dtype: int64"
      ]
     },
     "execution_count": 55,
     "metadata": {},
     "output_type": "execute_result"
    }
   ],
   "source": [
    "# Way more women were misclassified than men\n",
    "misclassified.groupby('sex').size()"
   ]
  },
  {
   "cell_type": "code",
   "execution_count": 56,
   "metadata": {},
   "outputs": [
    {
     "data": {
      "image/png": "[encoded data removed]",
      "text/plain": [
       "<Figure size 432x288 with 1 Axes>"
      ]
     },
     "metadata": {},
     "output_type": "display_data"
    }
   ],
   "source": [
    "# ORIGINAL workday alcohol consumption\n",
    "\n",
    "ct = pd.crosstab(data['Dalc'], data['sex']).reset_index()\n",
    "ct['total'] = ct.sum(axis=1)\n",
    "\n",
    "for sex in data.sex.unique():\n",
    "     ct[sex] = ct.apply(lambda ct: ct[sex]/ct.total*100, axis=1)  \n",
    "\n",
    "ct = ct.drop(['total', 'Dalc'], axis=1)        \n",
    "\n",
    "ct.plot.bar(stacked=True)\n",
    "plt.legend(title='sex')\n",
    "\n",
    "plt.show()"
   ]
  },
  {
   "cell_type": "code",
   "execution_count": 57,
   "metadata": {},
   "outputs": [
    {
     "data": {
      "image/png": "[encoded data removed]",
      "text/plain": [
       "<Figure size 432x288 with 1 Axes>"
      ]
     },
     "metadata": {},
     "output_type": "display_data"
    }
   ],
   "source": [
    "# MISCLASSIFIED workday alcohol consumption\n",
    "\n",
    "ct = pd.crosstab(misclassified['Dalc'], misclassified['sex']).reset_index()\n",
    "ct['total'] = ct.sum(axis=1)\n",
    "\n",
    "for sex in misclassified.sex.unique():\n",
    "     ct[sex] = ct.apply(lambda ct: ct[sex]/ct.total*100, axis=1)  \n",
    "\n",
    "ct = ct.drop(['total', 'Dalc'], axis=1)        \n",
    "\n",
    "ct.plot.bar(stacked=True)\n",
    "plt.legend(title='sex')\n",
    "\n",
    "plt.show()"
   ]
  },
  {
   "cell_type": "markdown",
   "metadata": {},
   "source": [
    "# While the other stacked bar graphs of the misclassified data show higher proportions of males than females across the board, this one looks pretty confounding. Higher proportions of females consuming alcohol during the weekday in the midrange, but not the extremes. Perhaps removing this column would help??"
   ]
  },
  {
   "cell_type": "code",
   "execution_count": 58,
   "metadata": {},
   "outputs": [],
   "source": [
    "data2 = data.drop('Dalc')"
   ]
  },
  {
   "cell_type": "code",
   "execution_count": 59,
   "metadata": {},
   "outputs": [
    {
     "data": {
      "text/plain": [
       "0.8048335388409371"
      ]
     },
     "execution_count": 59,
     "metadata": {},
     "output_type": "execute_result"
    }
   ],
   "source": [
    "X = data2.iloc[:,1:] # all rows, all the features and no labels\n",
    "y = data2.iloc[:, 0] # all rows, label only\n",
    "\n",
    "X_train, X_test, y_train, y_test = train_test_split(X,y,test_size=.2, random_state=4)\n",
    "\n",
    "model_RF = RandomForestClassifier(max_depth=5)\n",
    "\n",
    "model_RF.fit(X_train,y_train)\n",
    "\n",
    "ypred_rf = model_RF.predict(X_test)\n",
    "\n",
    "rf_accuracy = metrics.accuracy_score(y_test, ypred_rf)\n",
    "rf_accuracy"
   ]
  },
  {
   "cell_type": "code",
   "execution_count": 60,
   "metadata": {},
   "outputs": [
    {
     "data": {
      "text/plain": [
       "array([[10105,   833],\n",
       "       [ 3124,  6213]])"
      ]
     },
     "execution_count": 60,
     "metadata": {},
     "output_type": "execute_result"
    }
   ],
   "source": [
    "rf_confusion = confusion_matrix(y_test, ypred_rf)\n",
    "rf_confusion"
   ]
  },
  {
   "cell_type": "code",
   "execution_count": 61,
   "metadata": {},
   "outputs": [
    {
     "name": "stdout",
     "output_type": "stream",
     "text": [
      "             precision    recall  f1-score   support\n",
      "\n",
      "       male       0.76      0.92      0.84     10938\n",
      "     female       0.88      0.67      0.76      9337\n",
      "\n",
      "avg / total       0.82      0.80      0.80     20275\n",
      "\n"
     ]
    }
   ],
   "source": [
    "rf_classification = classification_report(y_test, ypred_rf, target_names=['male', 'female'])\n",
    "print(rf_classification)"
   ]
  },
  {
   "cell_type": "code",
   "execution_count": 62,
   "metadata": {},
   "outputs": [
    {
     "data": {
      "text/plain": [
       "0.7946303194930492"
      ]
     },
     "execution_count": 62,
     "metadata": {},
     "output_type": "execute_result"
    }
   ],
   "source": [
    "rf_roc = roc_auc_score(y_test, ypred_rf)\n",
    "rf_roc"
   ]
  },
  {
   "cell_type": "markdown",
   "metadata": {},
   "source": [
    "# Hmmm, didn't seem to help much if at all"
   ]
  },
  {
   "cell_type": "markdown",
   "metadata": {},
   "source": [
    "### B. Use either the GridSearchCV or RandomizedSearchCV class to try to find the best values for the hyperparameters for one or more of your algorithms. You should use the sklearn documenation to select some hyper parameters as well as for the details of how to use the Grid or Randomized search models."
   ]
  },
  {
   "cell_type": "markdown",
   "metadata": {},
   "source": [
    "#### I tried using GridSearchCV with random forests, but it took way too long, so I chose decision trees, which were just as accurate anyways"
   ]
  },
  {
   "cell_type": "code",
   "execution_count": null,
   "metadata": {},
   "outputs": [],
   "source": []
  },
  {
   "cell_type": "code",
   "execution_count": 80,
   "metadata": {},
   "outputs": [
    {
     "data": {
      "text/plain": [
       "{'criterion': 'gini', 'max_depth': 9, 'presort': True}"
      ]
     },
     "execution_count": 80,
     "metadata": {},
     "output_type": "execute_result"
    }
   ],
   "source": [
    "from sklearn.model_selection import GridSearchCV\n",
    "\n",
    "param_grid = {'max_depth': np.arange(3, 10),\n",
    "             'presort': [False, True],\n",
    "             'criterion': ['gini', 'entropy']}\n",
    "\n",
    "cv = GridSearchCV(DecisionTreeClassifier(), param_grid)\n",
    "\n",
    "cv.fit(X_train, y_train)\n",
    "\n",
    "cv.best_params_"
   ]
  },
  {
   "cell_type": "code",
   "execution_count": 82,
   "metadata": {},
   "outputs": [
    {
     "data": {
      "text/plain": [
       "0.9037731196054254"
      ]
     },
     "execution_count": 82,
     "metadata": {},
     "output_type": "execute_result"
    }
   ],
   "source": [
    "model_tree = DecisionTreeClassifier(criterion='gini', max_depth=9, presort=True)\n",
    "\n",
    "model_tree.fit(X_train,y_train)\n",
    "\n",
    "ypred_dt = model_tree.predict(X_test)\n",
    "\n",
    "dt_accuracy = metrics.accuracy_score(y_test, ypred_dt)\n",
    "dt_accuracy"
   ]
  },
  {
   "cell_type": "code",
   "execution_count": 83,
   "metadata": {},
   "outputs": [
    {
     "data": {
      "text/plain": [
       "array([[9931, 1007],\n",
       "       [ 944, 8393]])"
      ]
     },
     "execution_count": 83,
     "metadata": {},
     "output_type": "execute_result"
    }
   ],
   "source": [
    "confusion_matrix(y_test, ypred_dt)"
   ]
  },
  {
   "cell_type": "code",
   "execution_count": 84,
   "metadata": {},
   "outputs": [
    {
     "data": {
      "text/plain": [
       "0.9034162495875522"
      ]
     },
     "execution_count": 84,
     "metadata": {},
     "output_type": "execute_result"
    }
   ],
   "source": [
    "roc_auc_score(y_test, ypred_dt)"
   ]
  },
  {
   "cell_type": "markdown",
   "metadata": {},
   "source": [
    "# Quite an improvement! The accuracy and ROC score increased by .1, and the confusion matrix improved as well."
   ]
  },
  {
   "cell_type": "markdown",
   "metadata": {},
   "source": [
    "### C. Finally, the ensemble learning idea could really help improve your results. That is use all three (or more) of your models and have them vote on the final classification. You can implement a simple Python class that provides a fit and predict method."
   ]
  },
  {
   "cell_type": "code",
   "execution_count": 86,
   "metadata": {},
   "outputs": [
    {
     "data": {
      "text/plain": [
       "SVC(C=1.0, cache_size=200, class_weight=None, coef0=0.0,\n",
       "  decision_function_shape='ovr', degree=3, gamma='auto', kernel='rbf',\n",
       "  max_iter=-1, probability=False, random_state=None, shrinking=True,\n",
       "  tol=0.001, verbose=False)"
      ]
     },
     "execution_count": 86,
     "metadata": {},
     "output_type": "execute_result"
    }
   ],
   "source": [
    "from sklearn import svm\n",
    "\n",
    "model_svm = svm.SVC(C=1.0, cache_size=200, class_weight=None, coef0=0.0,\n",
    "  decision_function_shape='ovr', degree=3, gamma='auto', kernel='rbf',\n",
    "  max_iter=-1, probability=False, random_state=None, shrinking=True,\n",
    "  tol=0.001, verbose=False)\n",
    "model_svm.fit(X_train,y_train)"
   ]
  },
  {
   "cell_type": "code",
   "execution_count": null,
   "metadata": {},
   "outputs": [],
   "source": []
  },
  {
   "cell_type": "code",
   "execution_count": 88,
   "metadata": {},
   "outputs": [
    {
     "name": "stdout",
     "output_type": "stream",
     "text": [
      "Accuracy: 0.90 (+/- 0.01) [Decision Tree]\n",
      "Accuracy: 0.79 (+/- 0.00) [Random Forest]\n",
      "Accuracy: 1.00 (+/- 0.00) [SVM]\n"
     ]
    },
    {
     "name": "stderr",
     "output_type": "stream",
     "text": [
      "/usr/local/lib/python3.5/site-packages/sklearn/preprocessing/label.py:151: DeprecationWarning: The truth value of an empty array is ambiguous. Returning False, but in future this will result in an error. Use `array.size > 0` to check that an array is not empty.\n",
      "  if diff:\n",
      "/usr/local/lib/python3.5/site-packages/sklearn/preprocessing/label.py:151: DeprecationWarning: The truth value of an empty array is ambiguous. Returning False, but in future this will result in an error. Use `array.size > 0` to check that an array is not empty.\n",
      "  if diff:\n",
      "/usr/local/lib/python3.5/site-packages/sklearn/preprocessing/label.py:151: DeprecationWarning: The truth value of an empty array is ambiguous. Returning False, but in future this will result in an error. Use `array.size > 0` to check that an array is not empty.\n",
      "  if diff:\n",
      "/usr/local/lib/python3.5/site-packages/sklearn/preprocessing/label.py:151: DeprecationWarning: The truth value of an empty array is ambiguous. Returning False, but in future this will result in an error. Use `array.size > 0` to check that an array is not empty.\n",
      "  if diff:\n"
     ]
    },
    {
     "name": "stdout",
     "output_type": "stream",
     "text": [
      "Accuracy: 0.95 (+/- 0.00) [Ensemble]\n",
      "CPU times: user 1min 31s, sys: 832 ms, total: 1min 32s\n",
      "Wall time: 1min 32s\n"
     ]
    },
    {
     "name": "stderr",
     "output_type": "stream",
     "text": [
      "/usr/local/lib/python3.5/site-packages/sklearn/preprocessing/label.py:151: DeprecationWarning: The truth value of an empty array is ambiguous. Returning False, but in future this will result in an error. Use `array.size > 0` to check that an array is not empty.\n",
      "  if diff:\n"
     ]
    }
   ],
   "source": [
    "%%time\n",
    "from sklearn.ensemble import VotingClassifier\n",
    "from sklearn.model_selection import cross_val_score\n",
    "\n",
    "model_ensemble = VotingClassifier(estimators=[('dt', model_tree), ('rf', model_RF), ('svm', model_svm)], voting='hard')\n",
    "\n",
    "for clf, label in zip([model_tree, model_RF, model_svm, model_ensemble], ['Decision Tree', 'Random Forest', 'SVM', 'Ensemble']):\n",
    "    scores = cross_val_score(clf, X_test, y_test, cv=5, scoring='accuracy')\n",
    "    print(\"Accuracy: %0.2f (+/- %0.2f) [%s]\" % (scores.mean(), scores.std(), label))"
   ]
  },
  {
   "cell_type": "code",
   "execution_count": null,
   "metadata": {},
   "outputs": [],
   "source": []
  }
 ],
 "metadata": {
  "kernelspec": {
   "display_name": "Python 3",
   "language": "python",
   "name": "python3"
  },
  "language_info": {
   "codemirror_mode": {
    "name": "ipython",
    "version": 3
   },
   "file_extension": ".py",
   "mimetype": "text/x-python",
   "name": "python",
   "nbconvert_exporter": "python",
   "pygments_lexer": "ipython3",
   "version": "3.5.1"
  }
 },
 "nbformat": 4,
 "nbformat_minor": 2
}
